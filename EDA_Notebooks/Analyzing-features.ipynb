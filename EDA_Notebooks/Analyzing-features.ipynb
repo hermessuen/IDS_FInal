{
 "cells": [
  {
   "cell_type": "code",
   "execution_count": 68,
   "id": "e14ffdef",
   "metadata": {},
   "outputs": [],
   "source": [
    "import pandas as pd\n",
    "import numpy as np\n",
    "from sklearn.preprocessing import MinMaxScaler\n",
    "from sklearn.model_selection import train_test_split\n",
    "\n",
    "from sklearn.linear_model import LinearRegression\n",
    "from sklearn.ensemble import RandomForestRegressor\n",
    "from xgboost import XGBRegressor\n",
    "\n",
    "from sklearn.metrics import r2_score\n",
    "\n",
    "import pickle\n",
    "\n",
    "seed = 42\n",
    "np.random.seed(seed)"
   ]
  },
  {
   "cell_type": "code",
   "execution_count": 17,
   "id": "82d10a81",
   "metadata": {},
   "outputs": [
    {
     "name": "stdout",
     "output_type": "stream",
     "text": [
      "(1810, 9)\n"
     ]
    },
    {
     "data": {
      "text/html": [
       "<div>\n",
       "<style scoped>\n",
       "    .dataframe tbody tr th:only-of-type {\n",
       "        vertical-align: middle;\n",
       "    }\n",
       "\n",
       "    .dataframe tbody tr th {\n",
       "        vertical-align: top;\n",
       "    }\n",
       "\n",
       "    .dataframe thead th {\n",
       "        text-align: right;\n",
       "    }\n",
       "</style>\n",
       "<table border=\"1\" class=\"dataframe\">\n",
       "  <thead>\n",
       "    <tr style=\"text-align: right;\">\n",
       "      <th></th>\n",
       "      <th>Country name</th>\n",
       "      <th>year</th>\n",
       "      <th>Life Ladder</th>\n",
       "      <th>Log GDP per capita</th>\n",
       "      <th>Social support</th>\n",
       "      <th>Healthy life expectancy at birth</th>\n",
       "      <th>Freedom to make life choices</th>\n",
       "      <th>Generosity</th>\n",
       "      <th>Perceptions of corruption</th>\n",
       "    </tr>\n",
       "  </thead>\n",
       "  <tbody>\n",
       "    <tr>\n",
       "      <th>0</th>\n",
       "      <td>Afghanistan</td>\n",
       "      <td>2008</td>\n",
       "      <td>3.724</td>\n",
       "      <td>7.370</td>\n",
       "      <td>0.451</td>\n",
       "      <td>50.8</td>\n",
       "      <td>0.718</td>\n",
       "      <td>0.168</td>\n",
       "      <td>0.882</td>\n",
       "    </tr>\n",
       "    <tr>\n",
       "      <th>1</th>\n",
       "      <td>Afghanistan</td>\n",
       "      <td>2009</td>\n",
       "      <td>4.402</td>\n",
       "      <td>7.540</td>\n",
       "      <td>0.552</td>\n",
       "      <td>51.2</td>\n",
       "      <td>0.679</td>\n",
       "      <td>0.190</td>\n",
       "      <td>0.850</td>\n",
       "    </tr>\n",
       "    <tr>\n",
       "      <th>2</th>\n",
       "      <td>Afghanistan</td>\n",
       "      <td>2010</td>\n",
       "      <td>4.758</td>\n",
       "      <td>7.647</td>\n",
       "      <td>0.539</td>\n",
       "      <td>51.6</td>\n",
       "      <td>0.600</td>\n",
       "      <td>0.121</td>\n",
       "      <td>0.707</td>\n",
       "    </tr>\n",
       "  </tbody>\n",
       "</table>\n",
       "</div>"
      ],
      "text/plain": [
       "  Country name  year  Life Ladder  Log GDP per capita  Social support  \\\n",
       "0  Afghanistan  2008        3.724               7.370           0.451   \n",
       "1  Afghanistan  2009        4.402               7.540           0.552   \n",
       "2  Afghanistan  2010        4.758               7.647           0.539   \n",
       "\n",
       "   Healthy life expectancy at birth  Freedom to make life choices  Generosity  \\\n",
       "0                              50.8                         0.718       0.168   \n",
       "1                              51.2                         0.679       0.190   \n",
       "2                              51.6                         0.600       0.121   \n",
       "\n",
       "   Perceptions of corruption  \n",
       "0                      0.882  \n",
       "1                      0.850  \n",
       "2                      0.707  "
      ]
     },
     "execution_count": 17,
     "metadata": {},
     "output_type": "execute_result"
    }
   ],
   "source": [
    "df = pd.read_csv('cleaned_whr.csv')\n",
    "print(df.shape)\n",
    "df.head(3)"
   ]
  },
  {
   "cell_type": "code",
   "execution_count": 5,
   "id": "c055c500",
   "metadata": {},
   "outputs": [
    {
     "data": {
      "text/plain": [
       "Index(['Country name', 'year', 'Life Ladder', 'Log GDP per capita',\n",
       "       'Social support', 'Healthy life expectancy at birth',\n",
       "       'Freedom to make life choices', 'Generosity',\n",
       "       'Perceptions of corruption'],\n",
       "      dtype='object')"
      ]
     },
     "execution_count": 5,
     "metadata": {},
     "output_type": "execute_result"
    }
   ],
   "source": [
    "df.columns"
   ]
  },
  {
   "cell_type": "markdown",
   "id": "d34563a8",
   "metadata": {},
   "source": [
    "## Preprocessing"
   ]
  },
  {
   "cell_type": "code",
   "execution_count": 24,
   "id": "5cc5a3f9",
   "metadata": {},
   "outputs": [],
   "source": [
    "features = ['year', 'Log GDP per capita',\n",
    "       'Social support', 'Healthy life expectancy at birth',\n",
    "       'Freedom to make life choices', 'Generosity',\n",
    "       'Perceptions of corruption']\n",
    "\n",
    "feat_vals = df[features]\n",
    "\n",
    "labels = df[['Life Ladder']] # Life Ladder depicts how happy a country's citizens are"
   ]
  },
  {
   "cell_type": "code",
   "execution_count": 25,
   "id": "b205b2b8",
   "metadata": {},
   "outputs": [],
   "source": [
    "# min-max scale\n",
    "scaler = MinMaxScaler()\n",
    "\n",
    "scaled_feats = scaler.fit_transform(feat_vals)"
   ]
  },
  {
   "cell_type": "code",
   "execution_count": 26,
   "id": "71132e1b",
   "metadata": {},
   "outputs": [],
   "source": [
    "train_feats, val_feats, y_train, y_val  = train_test_split(scaled_feats, labels, test_size=0.2, random_state=seed)"
   ]
  },
  {
   "cell_type": "markdown",
   "id": "eccd2b00",
   "metadata": {},
   "source": [
    "# Linear Regression\n",
    "\n",
    "Use Linear Regression to understand how each feature contribute to the happiness score of a country"
   ]
  },
  {
   "cell_type": "code",
   "execution_count": 27,
   "id": "9fe03f83",
   "metadata": {},
   "outputs": [
    {
     "name": "stdout",
     "output_type": "stream",
     "text": [
      "Linear Regression achieves 0.7549953751964085 r-squared on the validation set\n"
     ]
    }
   ],
   "source": [
    "# Evaluate how well linear regression is able to predict Happiness\n",
    "\n",
    "linreg_train = LinearRegression().fit(train_feats, y_train)\n",
    "\n",
    "r_squared = linreg_train.score(val_feats, y_val)\n",
    "\n",
    "print(f'Linear Regression achieves {r_squared} r-squared on the validation set')"
   ]
  },
  {
   "cell_type": "code",
   "execution_count": 56,
   "id": "1954425b",
   "metadata": {},
   "outputs": [
    {
     "name": "stdout",
     "output_type": "stream",
     "text": [
      "Coefficients for each feature (train): \n",
      "\n",
      "year: 1.823592394378828\n",
      "Log GDP per capita: 1.5589416068680688\n",
      "Social support: 1.4104160284166016\n",
      "Healthy life expectancy at birth: 0.8364363039406275\n",
      "Freedom to make life choices: 0.732481474023862\n",
      "Generosity: -0.21363345781294302\n",
      "Perceptions of corruption: -0.5828302586085676\n"
     ]
    }
   ],
   "source": [
    "print(f'Coefficients for each feature (train): \\n')\n",
    "for feat, coef in zip(features, sorted(linreg_train.coef_[0], reverse=True)):\n",
    "    feature_weights[feat] = coef\n",
    "    print(f'{feat}: {coef}')"
   ]
  },
  {
   "cell_type": "code",
   "execution_count": 77,
   "id": "b1128464",
   "metadata": {},
   "outputs": [
    {
     "name": "stdout",
     "output_type": "stream",
     "text": [
      "Coefficients for each feature: \n",
      "\n",
      "year: 1.7427729120531477\n",
      "Log GDP per capita: 1.5559589175083068\n",
      "Social support: 1.484179657883182\n",
      "Healthy life expectancy at birth: 0.8337622070699899\n",
      "Freedom to make life choices: 0.6861463938437915\n",
      "Generosity: -0.21495044765877314\n",
      "Perceptions of corruption: -0.6399692613657582\n"
     ]
    }
   ],
   "source": [
    "linreg = LinearRegression().fit(scaled_feats, labels)\n",
    "\n",
    "feature_weights = {}\n",
    "\n",
    "print(f'Coefficients for each feature: \\n')\n",
    "for feat, coef in zip(features, sorted(linreg.coef_[0], reverse=True)):\n",
    "    feature_weights[feat] = coef\n",
    "    print(f'{feat}: {coef}')\n",
    "    \n",
    "\n",
    "with open('feature_weights.pkl', 'wb') as f:\n",
    "    pickle.dump(feature_weights, f)"
   ]
  },
  {
   "cell_type": "markdown",
   "id": "f2033e4a",
   "metadata": {},
   "source": [
    "# Random Forest\n",
    "\n",
    "Use Random Forest to understand the relative importance of each feature"
   ]
  },
  {
   "cell_type": "code",
   "execution_count": 35,
   "id": "2b46a130",
   "metadata": {},
   "outputs": [
    {
     "name": "stderr",
     "output_type": "stream",
     "text": [
      "<ipython-input-35-46c248084030>:3: DataConversionWarning: A column-vector y was passed when a 1d array was expected. Please change the shape of y to (n_samples,), for example using ravel().\n",
      "  rf_train = RandomForestRegressor().fit(train_feats, y_train)\n"
     ]
    },
    {
     "name": "stdout",
     "output_type": "stream",
     "text": [
      "Random Forest achieves 0.8626489704981295 r-squared on the validation set\n"
     ]
    }
   ],
   "source": [
    "# Evaluate how well Random Forest is able to predict Happiness\n",
    "\n",
    "rf_train = RandomForestRegressor().fit(train_feats, y_train)\n",
    "\n",
    "r_squared = rf_train.score(val_feats, y_val)\n",
    "\n",
    "print(f'Random Forest achieves {r_squared} r-squared on the validation set')"
   ]
  },
  {
   "cell_type": "code",
   "execution_count": 48,
   "id": "24c38776",
   "metadata": {},
   "outputs": [
    {
     "name": "stdout",
     "output_type": "stream",
     "text": [
      "Coefficients for each feature (train): \n",
      "\n",
      "year: 0.018925953565194446\n",
      "Log GDP per capita: 0.20257081070069663\n",
      "Social support: 0.0870565685054824\n",
      "Healthy life expectancy at birth: 0.5706153468914741\n",
      "Freedom to make life choices: 0.04141871419085741\n",
      "Generosity: 0.04056564564825611\n",
      "Perceptions of corruption: 0.038846960498038846\n"
     ]
    }
   ],
   "source": [
    "print(f'Coefficients for each feature (train): \\n')\n",
    "for feat, imp in zip(features, sorted(rf_train.feature_importances_)):\n",
    "    print(f'{feat}: {imp}')"
   ]
  },
  {
   "cell_type": "code",
   "execution_count": 59,
   "id": "686dc215",
   "metadata": {},
   "outputs": [
    {
     "name": "stderr",
     "output_type": "stream",
     "text": [
      "<ipython-input-59-02f49c3830c9>:1: DataConversionWarning: A column-vector y was passed when a 1d array was expected. Please change the shape of y to (n_samples,), for example using ravel().\n",
      "  rf = RandomForestRegressor().fit(scaled_feats, labels)\n"
     ]
    },
    {
     "name": "stdout",
     "output_type": "stream",
     "text": [
      "Importances for each feature: \n",
      "\n",
      "year: 0.6061045910302255\n",
      "Log GDP per capita: 0.17126024185154112\n",
      "Social support: 0.08533251793811852\n",
      "Healthy life expectancy at birth: 0.04451525884748206\n",
      "Freedom to make life choices: 0.03766269341957753\n",
      "Generosity: 0.03577988407897558\n",
      "Perceptions of corruption: 0.019344812834079708\n"
     ]
    }
   ],
   "source": [
    "rf = RandomForestRegressor().fit(scaled_feats, labels)\n",
    "\n",
    "feature_importances = {}\n",
    "\n",
    "print(f'Importances for each feature: \\n')\n",
    "for feat, imp in zip(features, sorted(rf.feature_importances_, reverse=True)):\n",
    "    feature_importances[feat] = imp\n",
    "    print(f'{feat}: {imp}')"
   ]
  },
  {
   "cell_type": "code",
   "execution_count": 83,
   "id": "c1a49c03",
   "metadata": {},
   "outputs": [
    {
     "data": {
      "text/plain": [
       "3.7210099999999953"
      ]
     },
     "execution_count": 83,
     "metadata": {},
     "output_type": "execute_result"
    }
   ],
   "source": [
    "rf.predict(scaled_feats[0].reshape(1, -1))[0]"
   ]
  },
  {
   "cell_type": "code",
   "execution_count": 78,
   "id": "d19b0bb3",
   "metadata": {},
   "outputs": [
    {
     "name": "stdout",
     "output_type": "stream",
     "text": [
      "{'year': 0.6061045910302255, 'Log GDP per capita': 0.17126024185154112, 'Social support': 0.08533251793811852, 'Healthy life expectancy at birth': 0.04451525884748206, 'Freedom to make life choices': 0.03766269341957753, 'Generosity': 0.03577988407897558, 'Perceptions of corruption': 0.019344812834079708}\n"
     ]
    }
   ],
   "source": [
    "print(feature_importances)\n",
    "\n",
    "with open('feature_importances.pkl', 'wb') as f:\n",
    "    pickle.dump(feature_importances, f)"
   ]
  },
  {
   "cell_type": "code",
   "execution_count": 75,
   "id": "7eabf510",
   "metadata": {},
   "outputs": [],
   "source": [
    "with open('rf.pkl', 'wb') as f:\n",
    "    pickle.dump(rf, f)"
   ]
  },
  {
   "cell_type": "code",
   "execution_count": null,
   "id": "45be1c47",
   "metadata": {},
   "outputs": [],
   "source": []
  },
  {
   "cell_type": "markdown",
   "id": "95477c0b",
   "metadata": {},
   "source": [
    "# Boosting"
   ]
  },
  {
   "cell_type": "code",
   "execution_count": 66,
   "id": "7d3f2d2d",
   "metadata": {},
   "outputs": [
    {
     "data": {
      "text/plain": [
       "0.850502768637332"
      ]
     },
     "execution_count": 66,
     "metadata": {},
     "output_type": "execute_result"
    }
   ],
   "source": [
    "xgb = XGBRegressor().fit(train_feats, y_train)\n",
    "\n",
    "r2_score(xgb.predict(val_feats), y_val)\n",
    "\n",
    "# xgb doesnt perform as well as Random Forest"
   ]
  }
 ],
 "metadata": {
  "kernelspec": {
   "display_name": "Python 3",
   "language": "python",
   "name": "python3"
  },
  "language_info": {
   "codemirror_mode": {
    "name": "ipython",
    "version": 3
   },
   "file_extension": ".py",
   "mimetype": "text/x-python",
   "name": "python",
   "nbconvert_exporter": "python",
   "pygments_lexer": "ipython3",
   "version": "3.9.5"
  }
 },
 "nbformat": 4,
 "nbformat_minor": 5
}
