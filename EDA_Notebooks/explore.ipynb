{
 "cells": [
  {
   "cell_type": "markdown",
   "id": "a8b90421-5c45-45b7-aa9e-a996acd932c1",
   "metadata": {},
   "source": [
    "### FINAL RESULTS:\n",
    "This data was taken from:https://www.kaggle.com/utkarshxy/who-worldhealth-statistics-2020-complete?select=incedenceOfMalaria.csv.\n",
    "\n",
    "It is a complete set of recent and updated health statistics of the world. It covers many different countries and years. The Kaggle link contains many different CSV files with each covering a specific statistic. The cleaning done here attempts to merge all the CSVs into a single usable dataframe.\n",
    "\n",
    "The steps taken to clean the data are as follows:\n",
    "1. Aggregate repeated variables\n",
    "2. Group by Country and Year\n",
    "2. Rename Columns\n",
    "3. Drop CSVs with Interval Years\n",
    "4. eliminate records from before 2008\n",
    "3. Merge Dataframes\n",
    "4. Drop columns with significant amount of NaNs\n",
    "\n",
    "There remains a few issues with the data:\n",
    "1. For some countries and statistics, we do not have every year in the interval 2008-2019\n",
    "2. Very few columns are kept after all of the data cleaning\n",
    "\n",
    "\n",
    "\n",
    "\n",
    "\n"
   ]
  },
  {
   "cell_type": "code",
   "execution_count": 61,
   "id": "cc6e839a-08d7-4816-b80b-ffd1c716186a",
   "metadata": {},
   "outputs": [],
   "source": [
    "import pandas as pd\n",
    "import numpy as np\n",
    "import matplotlib.pyplot as plt\n",
    "import os\n",
    "from pandas_profiling import ProfileReport"
   ]
  },
  {
   "cell_type": "code",
   "execution_count": 62,
   "id": "07901263-c881-4e52-85b1-1486ba258fad",
   "metadata": {},
   "outputs": [],
   "source": [
    "def clean_df(df):\n",
    "#     rename the columns\n",
    "    column_name = df[\"Indicator\"].iloc[0]\n",
    "    if \"Dim1\" in df.columns:\n",
    "        df =df.groupby(\"Period\").first()\n",
    "    df.reset_index(inplace=True)\n",
    "    df = df[[\"Location\",  \"First Tooltip\", \"Period\"]]\n",
    "    df.rename(columns = {\"First Tooltip\": column_name}, inplace=True)\n",
    "    return df\n"
   ]
  },
  {
   "cell_type": "code",
   "execution_count": null,
   "id": "0e643d81-c620-4312-81a3-0f477709abce",
   "metadata": {},
   "outputs": [],
   "source": [
    "dir_list = os.listdir(\"health/\")\n",
    "master_df = None\n",
    "for idx, csv_name in enumerate(dir_list):\n",
    "    if csv_name.endswith('csv'):\n",
    "        curr_df = pd.read_csv(\"health/\" + csv_name)\n",
    "        curr_df = clean_df(curr_df)\n",
    "#         merge df\n",
    "        if idx == 1:\n",
    "            master_df = curr_df\n",
    "        else:\n",
    "            if curr_df[\"Period\"].dtype == \"int64\":\n",
    "                curr_df[\"Period\"] = curr_df[\"Period\"].astype(int)\n",
    "                master_df = master_df.merge(curr_df, on=[\"Location\", \"Period\"], how=\"outer\")"
   ]
  },
  {
   "cell_type": "code",
   "execution_count": null,
   "id": "651f6bdf-fce0-46de-8ff9-14634452669f",
   "metadata": {},
   "outputs": [],
   "source": [
    "df = master_df[master_df['Period']>=2008]\n",
    "df['Reported number of people requiring interventions against NTDs'] = df['Reported number of people requiring interventions against NTDs'].fillna(-1).astype(int)\n",
    "z = df.count(axis=0)\n",
    "df.to_csv('merged.csv', index = False)\n",
    "df.drop(labels=df.columns[z<len(df)//2], axis=1, inplace = True)\n",
    "df.to_csv('merged_cleaned.csv', index = False)\n",
    "df.head()"
   ]
  }
 ],
 "metadata": {
  "kernelspec": {
   "display_name": "Python 3",
   "language": "python",
   "name": "python3"
  },
  "language_info": {
   "codemirror_mode": {
    "name": "ipython",
    "version": 3
   },
   "file_extension": ".py",
   "mimetype": "text/x-python",
   "name": "python",
   "nbconvert_exporter": "python",
   "pygments_lexer": "ipython3",
   "version": "3.8.8"
  }
 },
 "nbformat": 4,
 "nbformat_minor": 5
}
